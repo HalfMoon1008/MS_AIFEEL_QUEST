{
 "cells": [
  {
   "cell_type": "markdown",
   "id": "bea216ad",
   "metadata": {},
   "source": [
    "# 9. 임베딩 내 편향성 알아보기 [프로젝트]"
   ]
  },
  {
   "cell_type": "markdown",
   "id": "425c3b68",
   "metadata": {},
   "source": [
    "## STEP 1. 형태소 분석기를 이용하여 품사가 명사인 경우 해당 단어를 추출하기\n",
    "\n",
    "---"
   ]
  },
  {
   "cell_type": "markdown",
   "id": "95a4aded",
   "metadata": {},
   "source": [
    "**konlpy 관련 내용 정리**  \n",
    "[Link](https://konlpy.org/ko/latest/api/konlpy.tag/#konlpy.tag._okt.Okt)  \n",
    "[stem's dictionarical meaning: 2 of 6 verb(1)](https://www.merriam-webster.com/dictionary/stem)\n",
    "\n",
    "---\n",
    "\n",
    "`pos(phrase, norm=False, stem=False, join=False)`\n",
    "- POS (Part Of Speech; a.k.a 품사)\n",
    "    - **norm** : `True` 값이면, 단어(토큰)들을 정규화함\n",
    "    - **stem** : ` True` 값이면, 단어(토큰)의 어근을 반환함\n",
    "    - **join** : `True` 값이면, 단어를 품사로 변환해서 tag와 함께 반환함\n",
    "        - [example applied join option](https://konlpy.org/en/v0.4.4/morph/)\n",
    "    \n"
   ]
  },
  {
   "cell_type": "code",
   "execution_count": 1,
   "id": "2e1cf7b2",
   "metadata": {},
   "outputs": [],
   "source": [
    "# 형태소 분석기를 이용해 특정 품사인 단어를 추출하는 함수 선언\n",
    "def extract_tokens(file_path, part_of_speech):\n",
    "    # konlpy 모듈 임포트\n",
    "    from konlpy.tag import Okt\n",
    "    # konlpy 인스턴스 생성\n",
    "    okt = Okt()\n",
    "    tokenized = []\n",
    "    with open(file_path, 'r') as file:\n",
    "        while True:\n",
    "            # text file 한 줄씩 읽기\n",
    "            line = file.readline()\n",
    "            # 파일 다 읽으면(line == None), break\n",
    "            if not line: break\n",
    "            ## 위 konlpy 관련 내용 정리 참고\n",
    "            words = okt.pos(line, stem=True, norm=True)\n",
    "            res = []\n",
    "            for w in words:\n",
    "                if w[1] in [part_of_speech]:      # \"Noun, \"Adjective\", \"Verb\" 등을 포함 가능\n",
    "                    res.append(w[0])    # 명사일 때만 tokenized 에 저장하게 됩니다. \n",
    "            tokenized.append(res)\n",
    "    return tokenized\n",
    "# 약 15분정도 걸립니다."
   ]
  },
  {
   "cell_type": "code",
   "execution_count": 2,
   "id": "fecc107f",
   "metadata": {},
   "outputs": [
    {
     "name": "stdout",
     "output_type": "stream",
     "text": [
      "extract_tokens() 함수 실행 소요시간 : 680.520834684372 sec.\n",
      "변환한 토큰 개수 : 71156\n"
     ]
    }
   ],
   "source": [
    "# 파일 경로, 추출할 품사 설정하고 함수 실행\n",
    "import os\n",
    "import time\n",
    "\n",
    "file_path = os.getenv('HOME')+'/aiffel/weat/synopsis.txt'\n",
    "part_of_speech = \"Noun\"\n",
    "\n",
    "\n",
    "start_time = time.time()\n",
    "# extract_tokens() 는 list를 반환함\n",
    "## 글로벌 변수 tokenized를 가지고 return 값 받아오기\n",
    "tokenized = extract_tokens(file_path, part_of_speech)\n",
    "end_time = time.time()\n",
    "\n",
    "print(f\"extract_tokens() 함수 실행 소요시간 : {end_time - start_time} sec.\")\n",
    "print(f\"변환한 토큰 개수 : {len(tokenized)}\")"
   ]
  },
  {
   "cell_type": "markdown",
   "id": "802433b7",
   "metadata": {},
   "source": [
    "## STEP 2. 추출된 결과로 embedding model 만들기\n",
    "\n",
    "---"
   ]
  },
  {
   "cell_type": "code",
   "execution_count": 3,
   "id": "f64de77a",
   "metadata": {},
   "outputs": [],
   "source": [
    "from gensim.models import Word2Vec\n",
    "\n",
    "# tokenized에 담긴 데이터를 가지고 나만의 Word2Vec을 생성합니다. (Gensim 4.0 기준)\n",
    "model = Word2Vec(tokenized, vector_size=100, window=5, min_count=3, sg=0)\n",
    "\n",
    "# 모델 저장 용도(like as pretrained model)\n",
    "model.save(\"word2vec.model\")"
   ]
  },
  {
   "cell_type": "markdown",
   "id": "6e5e8ef5",
   "metadata": {},
   "source": [
    "```python\n",
    "# Gensim 3.X 에서는 아래와 같이 생성합니다. \n",
    "model = Word2Vec(tokenized, size=100, window=5, min_count=3, sg=0)\n",
    "```"
   ]
  },
  {
   "cell_type": "code",
   "execution_count": 4,
   "id": "8506a2fe",
   "metadata": {},
   "outputs": [
    {
     "data": {
      "text/plain": [
       "[('작품', 0.8777695894241333),\n",
       " ('다큐멘터리', 0.8594439029693604),\n",
       " ('드라마', 0.8065423965454102),\n",
       " ('영화로', 0.8017072677612305),\n",
       " ('코미디', 0.7783318161964417),\n",
       " ('형식', 0.7778170108795166),\n",
       " ('소재', 0.7706201672554016),\n",
       " ('편의', 0.7606302499771118),\n",
       " ('주제', 0.7602591514587402),\n",
       " ('설정', 0.7548930048942566)]"
      ]
     },
     "execution_count": 4,
     "metadata": {},
     "output_type": "execute_result"
    }
   ],
   "source": [
    "# 학습예제와 동일한 조건의 테스트 해보기\n",
    "model.wv.most_similar(positive=['영화'])"
   ]
  },
  {
   "cell_type": "markdown",
   "id": "98284531",
   "metadata": {},
   "source": [
    "---\n",
    "\n",
    "pretrainded model(`word2Vec.model`) 테스트"
   ]
  },
  {
   "cell_type": "code",
   "execution_count": 5,
   "id": "0672eaf7",
   "metadata": {},
   "outputs": [
    {
     "ename": "NameError",
     "evalue": "name 'model' is not defined",
     "output_type": "error",
     "traceback": [
      "\u001b[0;31m---------------------------------------------------------------------------\u001b[0m",
      "\u001b[0;31mNameError\u001b[0m                                 Traceback (most recent call last)",
      "\u001b[0;32m/tmp/ipykernel_158/969929326.py\u001b[0m in \u001b[0;36m<module>\u001b[0;34m\u001b[0m\n\u001b[1;32m      3\u001b[0m \u001b[0;34m\u001b[0m\u001b[0m\n\u001b[1;32m      4\u001b[0m \u001b[0;31m# model이 제거 되었는지 확인해보기\u001b[0m\u001b[0;34m\u001b[0m\u001b[0;34m\u001b[0m\u001b[0m\n\u001b[0;32m----> 5\u001b[0;31m \u001b[0mmodel\u001b[0m\u001b[0;34m\u001b[0m\u001b[0;34m\u001b[0m\u001b[0m\n\u001b[0m",
      "\u001b[0;31mNameError\u001b[0m: name 'model' is not defined"
     ]
    }
   ],
   "source": [
    "# 기존 model 제거\n",
    "del model\n",
    "\n",
    "# model이 제거 되었는지 확인해보기\n",
    "## 정상적으로 제거되었다면 'model' is not defined 가 출력될 것이다.\n",
    "model"
   ]
  },
  {
   "cell_type": "code",
   "execution_count": 6,
   "id": "42eb27f3",
   "metadata": {},
   "outputs": [
    {
     "data": {
      "text/plain": [
       "<gensim.models.word2vec.Word2Vec at 0x7f77c5b296a0>"
      ]
     },
     "execution_count": 6,
     "metadata": {},
     "output_type": "execute_result"
    }
   ],
   "source": [
    "# 사전 학습된 모델 불러오기\n",
    "model = Word2Vec.load(\"word2vec.model\")\n",
    "\n",
    "# 모델이 잘 불렸는지 확인\n",
    "model"
   ]
  },
  {
   "cell_type": "code",
   "execution_count": 7,
   "id": "a200f830",
   "metadata": {},
   "outputs": [
    {
     "data": {
      "text/plain": [
       "[('애정', 0.7247534394264221),\n",
       " ('진심', 0.7008025050163269),\n",
       " ('연애', 0.6902377605438232),\n",
       " ('행복', 0.6831134557723999),\n",
       " ('가슴', 0.6816573143005371),\n",
       " ('만남', 0.6802330017089844),\n",
       " ('첫사랑', 0.6669242978096008),\n",
       " ('고백', 0.6660880446434021),\n",
       " ('욕망', 0.6652083396911621),\n",
       " ('이별', 0.6590585708618164)]"
      ]
     },
     "execution_count": 7,
     "metadata": {},
     "output_type": "execute_result"
    }
   ],
   "source": [
    "# 학습 예제 1 테스트\n",
    "model.wv.most_similar(positive=['사랑'])"
   ]
  },
  {
   "cell_type": "code",
   "execution_count": 8,
   "id": "b7a266e0",
   "metadata": {},
   "outputs": [
    {
     "data": {
      "text/plain": [
       "[('영화감독', 0.8939788937568665),\n",
       " ('시나리오', 0.8861426115036011),\n",
       " ('배우', 0.8741973638534546),\n",
       " ('데뷔', 0.8739330172538757),\n",
       " ('캐스팅', 0.8636925220489502),\n",
       " ('뮤지션', 0.8546149134635925),\n",
       " ('영감', 0.8532626628875732),\n",
       " ('팬', 0.8524744510650635),\n",
       " ('무용', 0.8497347235679626),\n",
       " ('여배우', 0.8488672971725464)]"
      ]
     },
     "execution_count": 8,
     "metadata": {},
     "output_type": "execute_result"
    }
   ],
   "source": [
    "# 학습 예제 2 테스트\n",
    "model.wv.most_similar(positive=['연극'])"
   ]
  },
  {
   "cell_type": "markdown",
   "id": "808a6910",
   "metadata": {},
   "source": [
    "## STEP 3. target, attribute 단어 셋 만들기\n",
    "\n",
    "---\n",
    "\n",
    "이전 스텝에서는 TF-IDF를 사용해서 단어 셋을 만들었습니다. 이 방법으로도 어느 정도는 대표 단어를 잘 선정할 수 있습니다. 그러나 TF-IDF가 높은 단어를 골랐음에도 불구하고 중복되는 단어가 발생하는 문제가 있었습니다. 개념축을 표현하는 단어가 제대로 선정되지 않은 것은 WEAT 계산 결과에 악영향을 미칩니다.  \n",
    "  \n",
    "TF-IDF를 적용했을 때의 문제점이 무엇인지 지적 가능하다면 그 문제점을 지적하고 스스로 방법을 개선하여 대표 단어 셋을 구축해 보기 바랍니다. TF-IDF 방식을 쓰더라도 중복된 단어를 잘 제거하면 여전히 유용한 방식이 될 수 있습니다."
   ]
  },
  {
   "cell_type": "markdown",
   "id": "11aadf82",
   "metadata": {},
   "source": [
    "---"
   ]
  },
  {
   "cell_type": "markdown",
   "id": "febdd161",
   "metadata": {},
   "source": [
    "WEAT score를 구할 때, 단어 셋을 만들어야 한다.\n",
    "- targets_X, targets_Y, attribute_A, attribute_B\n",
    "\n",
    "예제 기준 &rarr; `영화 장르`, `영화 구분 정보`를 두 축으로 하였음  \n",
    "  \n",
    "- 영화 구분\n",
    "    - `synopsis_art.txt` : `예술영화`\n",
    "    - `synopsis_gen.txt` : `일반영화(상업영화)`\n",
    "    - `synopsis_etc.txt` : `독립영화`\n",
    "- 장르 구분\n",
    "    - `synopsis_SF.txt` : `SF`\n",
    "    - `synopsis_action.txt` : `액션`\n",
    "    - `synopsis_adult.txt` : `성인물(에로)`\n",
    "    - `synopsis_adventure.txt` : `어드벤처`\n",
    "    - `synopsis_animation.txt` : `애니메이션`\n",
    "    - `synopsis_comedy.txt` : `코미디`\n",
    "    - `synopsis_crime.txt` : `범죄`\n",
    "    - `synopsis_documentary.txt` : `다큐멘터리`\n",
    "    - `synopsis_drama.txt` : `드라마`\n",
    "    - `synopsis_family.txt` : `가족`\n",
    "    - `synopsis_fantasy.txt` : `판타지`\n",
    "    - `synopsis_historical.txt` : `사극`\n",
    "    - `synopsis_horror.txt` : `공포(호러)`\n",
    "    - `synopsis_musical.txt` : `뮤지컬`\n",
    "    - `synopsis_mystery.txt` : `미스터리`\n",
    "    - `synopsis_romance.txt` : `멜로로맨스`\n",
    "    - `synopsis_show.txt` : `공연`\n",
    "    - `synopsis_thriller.txt` : `스릴러`\n",
    "    - `synopsis.txt` : `기타`\n",
    "    - `synopsis_war.txt` : `전쟁`\n",
    "    - `synopsis_western.txt` : `서부극(웨스턴)`\n",
    "    \n",
    "> 확인 명령어\n",
    "```shell\n",
    "$ cd /aiffel/aiffel/weat\n",
    "$ ls | grep [^A-Z].txt | grep -v _art.txt | grep -v _gen.txt | grep -v _etc.txt\n",
    "```\n",
    "    "
   ]
  },
  {
   "cell_type": "markdown",
   "id": "6aac5ea3",
   "metadata": {},
   "source": [
    "---"
   ]
  },
  {
   "cell_type": "markdown",
   "id": "2998a4f5",
   "metadata": {},
   "source": [
    "1. 일반영화(상업영화), 독립영화 : target으로 삼자\n",
    "2. 다큐멘터리, SF : (장르) attribute로 삼자\n",
    "\n",
    "- 가정\n",
    "    - '다큐멘터리' 장르는 독립영화적 성격이 강할 것이다.\n",
    "    - 'SF' 장르는 일반영화(상업영화)적 성격이 강할 것이다.\n",
    "    \n",
    "- what to do?\n",
    "    - `synopsis_etc.txt`, `synopsis_gen.txt` : 타겟\n",
    "    - `synopsis_documentary.txt`, `synopsis_SF.txt` : 장르 (attribute)"
   ]
  },
  {
   "cell_type": "markdown",
   "id": "19bba0db",
   "metadata": {},
   "source": [
    "---"
   ]
  },
  {
   "cell_type": "markdown",
   "id": "7fea466b",
   "metadata": {},
   "source": [
    "단어를 벡터화할 때, `TF-IDF` 변환의 한계점은 다음과 같다고 한다.\n",
    "- 문서에 포함된 단어들만이 문서의 특징(feature)으로 영향을 미친다.\n",
    "    - [참고논문 - 2. 관련연구](https://koreascience.kr/article/JAKO201824236535969.pdf)\n",
    "\n",
    "저자는 문서 내의 단어의 의미와 순서를 문서 벡터에 표현하기 위해 `word2Vec` 과 `doc2vec`을 사용하여 벡터화를 수행하였다.\n",
    "- 본 논문에서는 명사를 문서의 주요 특징으로 보고 형태소 분석을 통해 명사만을 추출한다. 추출된 명사 중에서도 다수의 문서에서 출현하는 단어는 문서간의 분별력을 낮추기 때문에 제거한다. 추출된 단어의 의미와 문맥을 고려하기 위해 word2vec을 사용하여 단어 벡터를 생성하고 doc2vec을 사용하여 문서를 벡터화한다"
   ]
  },
  {
   "cell_type": "code",
   "execution_count": 3,
   "id": "58feb0d3",
   "metadata": {},
   "outputs": [],
   "source": [
    "import os\n",
    "from konlpy.tag import Okt\n",
    "\n",
    "# 시놉시스 파일을 읽어서 토큰화하는 함수 선언\n",
    "## 문장을 토크나이징 할 때, 명사만 추출해서 가져오기\n",
    "def extract_nouns_from_file(file_name):\n",
    "    with open(os.getenv('HOME')+'/aiffel/weat/'+file_name, 'r', encoding='utf-8') as file:\n",
    "        text = file.read()\n",
    "        okt = Okt()\n",
    "        nouns = okt.nouns(text)\n",
    "        return nouns"
   ]
  },
  {
   "cell_type": "code",
   "execution_count": 5,
   "id": "a455f7db",
   "metadata": {},
   "outputs": [
    {
     "name": "stdout",
     "output_type": "stream",
     "text": [
      "소요시간; 515.9143838882446 sec\n"
     ]
    }
   ],
   "source": [
    "import time\n",
    "\n",
    "# target 단어 셋 만들기\n",
    "## `synopsis_etc.txt`, `synopsis_gen.txt` : 타겟\n",
    "etc_txt = 'synopsis_etc.txt'\n",
    "gen_txt = 'synopsis_gen.txt'\n",
    "# attribute 단어 셋 만들기\n",
    "## `synopsis_documentary.txt`, `synopsis_SF.txt` : attribute (장르)\n",
    "documentary_txt = 'synopsis_documentary.txt'\n",
    "science_fiction_txt = 'synopsis_SF.txt'\n",
    "\n",
    "start_time = time.time()\n",
    "# 각 텍스트 파일에서 명사 추출\n",
    "etc_nouns = extract_nouns_from_file(etc_txt)\n",
    "gen_nouns = extract_nouns_from_file(gen_txt)\n",
    "documentary_nouns = extract_nouns_from_file(documentary_txt)\n",
    "science_fiction_nouns = extract_nouns_from_file(science_fiction_txt)\n",
    "#\n",
    "end_time = time.time()\n",
    "\n",
    "print(f\"소요시간; {end_time - start_time} sec\")"
   ]
  },
  {
   "cell_type": "code",
   "execution_count": 50,
   "id": "e148ca09",
   "metadata": {},
   "outputs": [],
   "source": [
    "from gensim.models import Word2Vec\n",
    "# target (X, Y), attribute (A, B)\n",
    "X, Y = list(), list()\n",
    "A, B = list(), list()\n",
    "\n",
    "# Word2Vec 부분이 반복적이므로 함수 선언\n",
    "def w2v_model(nouns, target_word, target_or_attribute_list):\n",
    "    # 모델 학습 - 명사 단어 기반\n",
    "    model = Word2Vec([nouns], vector_size=100, window=5, min_count=1, sg=0, workers=4)\n",
    "\n",
    "    # 대표 단어 - 단어 뭉치 기준 관련성이 높은 10개 단어 추출\n",
    "    similar_words = model.wv.most_similar(positive=target_word, topn=10)\n",
    "    \n",
    "    # 대표 단어와 유사한 단어 10개 출력\n",
    "    ## 하면서 target_1 (X) 에 append\n",
    "    print(f\"{target_word}과 관련 있는 상위 10개 단어들:\")\n",
    "    for word, similarity in similar_words:\n",
    "        # target or attribute\n",
    "        target_or_attribute_list.append(similarity)\n",
    "        print(f\"{word}: {similarity:.4f}\")\n",
    "\n",
    "    # 학습했던 모델 제거\n",
    "    del model"
   ]
  },
  {
   "cell_type": "code",
   "execution_count": 51,
   "id": "4abfd589",
   "metadata": {},
   "outputs": [
    {
     "name": "stdout",
     "output_type": "stream",
     "text": [
      "독립영화과 관련 있는 상위 10개 단어들:\n",
      "작전: 0.4242\n",
      "얼: 0.3949\n",
      "미코: 0.3320\n",
      "보건: 0.3175\n",
      "쉬: 0.3171\n",
      "강조: 0.3162\n",
      "졸업: 0.3114\n",
      "도살: 0.3091\n",
      "프랑: 0.2996\n",
      "헤더: 0.2933\n"
     ]
    }
   ],
   "source": [
    "# 독립영화 - target X로\n",
    "w2v_model(etc_nouns, \"독립영화\", X)"
   ]
  },
  {
   "cell_type": "code",
   "execution_count": 52,
   "id": "35fde0a7",
   "metadata": {},
   "outputs": [
    {
     "name": "stdout",
     "output_type": "stream",
     "text": [
      "일반과 관련 있는 상위 10개 단어들:\n",
      "호놀: 0.4034\n",
      "로퍼: 0.3798\n",
      "카를로: 0.3764\n",
      "왼쪽: 0.3751\n",
      "살박: 0.3717\n",
      "나비문신: 0.3678\n",
      "티나: 0.3650\n",
      "사슬: 0.3552\n",
      "우체국: 0.3536\n",
      "세혁: 0.3487\n"
     ]
    }
   ],
   "source": [
    "# 일반영화 - target Y로\n",
    "w2v_model(gen_nouns, \"일반\", Y)"
   ]
  },
  {
   "cell_type": "code",
   "execution_count": 53,
   "id": "71fabacb",
   "metadata": {},
   "outputs": [
    {
     "name": "stdout",
     "output_type": "stream",
     "text": [
      "다큐과 관련 있는 상위 10개 단어들:\n",
      "수련: 0.3405\n",
      "슈사: 0.3375\n",
      "파바로티: 0.3289\n",
      "현대: 0.3258\n",
      "위험: 0.3187\n",
      "직물: 0.3142\n",
      "늪: 0.3125\n",
      "만능: 0.3123\n",
      "생태계: 0.3120\n",
      "임흥세: 0.3102\n"
     ]
    }
   ],
   "source": [
    "# 일반영화 - attribute A로\n",
    "w2v_model(documentary_nouns, \"다큐\", A)"
   ]
  },
  {
   "cell_type": "code",
   "execution_count": 54,
   "id": "d8708739",
   "metadata": {},
   "outputs": [
    {
     "name": "stdout",
     "output_type": "stream",
     "text": [
      "과학과 관련 있는 상위 10개 단어들:\n",
      "중위: 0.3369\n",
      "북: 0.3263\n",
      "홍보: 0.3186\n",
      "여섯: 0.3180\n",
      "철통: 0.3166\n",
      "처치: 0.3041\n",
      "증폭: 0.3026\n",
      "송강호: 0.2979\n",
      "지벤스: 0.2925\n",
      "타이탄: 0.2916\n"
     ]
    }
   ],
   "source": [
    "# 일반영화 - attribute B로\n",
    "w2v_model(science_fiction_nouns, \"과학\", B)"
   ]
  },
  {
   "cell_type": "markdown",
   "id": "f16a6728",
   "metadata": {},
   "source": [
    "## STEP 4. WEAT score 계산과 시각화\n",
    "\n",
    "---\n",
    "\n",
    "영화 구분, 영화 장르에 따른 편향성을 측정하여 WEAT score로 계산해 보고 이를 Heatmap 형태로 시각화해 봅시다. 편향성이 두드러지는 영화장르 attribute 구성에는 어떤 케이스가 있는지 시각적으로 두드러지게 구성되면 좋습니다."
   ]
  },
  {
   "cell_type": "code",
   "execution_count": 55,
   "id": "48782de4",
   "metadata": {},
   "outputs": [
    {
     "data": {
      "image/png": "[encoded data removed]",
      "text/plain": [
       "<Figure size 720x576 with 2 Axes>"
      ]
     },
     "metadata": {
      "needs_background": "light"
     },
     "output_type": "display_data"
    }
   ],
   "source": [
    "import numpy as np\n",
    "import pandas as pd\n",
    "import matplotlib.pyplot as plt\n",
    "import seaborn as sns\n",
    "from sklearn.metrics.pairwise import cosine_similarity\n",
    "\n",
    "\n",
    "# 각각의 단어 목록을 리스트로 묶기\n",
    "word_lists = [X, Y, A, B]\n",
    "word_labels = ['X', 'Y', 'A', 'B']\n",
    "\n",
    "# WEAT 스코어 계산\n",
    "def calculate_weat_score(target_list, attribute_list):\n",
    "    target_mean = np.mean(target_list)\n",
    "    attribute_mean = np.mean(attribute_list)\n",
    "    \n",
    "    target_std = np.std(target_list)\n",
    "    attribute_std = np.std(attribute_list)\n",
    "    \n",
    "    weat_score = (target_mean - attribute_mean) / np.sqrt(target_std ** 2 + attribute_std ** 2)\n",
    "    return weat_score\n",
    "\n",
    "# WEAT 스코어 행렬 생성\n",
    "num_words = len(X)\n",
    "weat_scores = np.zeros((len(word_labels), len(word_labels)))\n",
    "\n",
    "for i, target_list in enumerate(word_lists):\n",
    "    for j, attribute_list in enumerate(word_lists):\n",
    "        weat_scores[i, j] = calculate_weat_score(target_list, attribute_list)\n",
    "\n",
    "# HEATMAP 그리기\n",
    "df = pd.DataFrame(weat_scores, index=word_labels, columns=word_labels)\n",
    "plt.figure(figsize=(10, 8))\n",
    "sns.heatmap(df, annot=True, cmap='coolwarm', fmt=\".2f\")\n",
    "plt.title(\"WEAT Score Heatmap\")\n",
    "plt.show()"
   ]
  },
  {
   "cell_type": "markdown",
   "id": "03bf929e",
   "metadata": {},
   "source": [
    "### 루브릭\n",
    "아래의 기준을 바탕으로 프로젝트를 평가합니다."
   ]
  },
  {
   "cell_type": "markdown",
   "id": "af9ec323",
   "metadata": {},
   "source": [
    "|**평가문항**|**상세기준**|\n",
    "|---|---|\n",
    "|1. 주어진 영화 코퍼스를 바탕으로 워드임베딩 모델을 정상적으로 만들었다.|워드임베딩의 most_similar() 메소드 결과가 의미상 바르게 나왔다.|\n",
    "|2. 영화 구분, 장르별로 target, attribute에 대표성있는 단어셋을 생성하였다.|타당한 방법론을 통해 중복이 잘 제거되고 개념축을 의미적으로 잘 대표하는 단어 셋이 만들어졌다.|\n",
    "|3. WEAT score 계산 및 시각화를 정상적으로 진행하였다.|전체 영화 장르별로 예술/일반 영화에 대한 편향성 WEAT score가 상식에 부합하는 수치로 얻어졌으며 이를 잘 시각화하였다.|"
   ]
  },
  {
   "cell_type": "markdown",
   "id": "6ac83b94",
   "metadata": {},
   "source": [
    "# 개인 회고\n",
    "\n",
    "---\n",
    "\n",
    "1. konlpy 형태소 분석기 사용을 통해 특정 품사를 가지는 단어 추출하는 법을 잘 배운거 같다.\n",
    "2. word2vec을 사용해서 WEAT score를 구해보려고 했는데, 뭔가 지저분하게 구해진것 같다\n",
    "\t- 확신의 포인트가 없달까(...)\n",
    "3. 데이터 시각화로 하는 분석에 대해 심도있게 접근해보아야 할 것 같다.."
   ]
  }
 ],
 "metadata": {
  "kernelspec": {
   "display_name": "Python 3 (ipykernel)",
   "language": "python",
   "name": "python3"
  },
  "language_info": {
   "codemirror_mode": {
    "name": "ipython",
    "version": 3
   },
   "file_extension": ".py",
   "mimetype": "text/x-python",
   "name": "python",
   "nbconvert_exporter": "python",
   "pygments_lexer": "ipython3",
   "version": "3.9.7"
  }
 },
 "nbformat": 4,
 "nbformat_minor": 5
}
