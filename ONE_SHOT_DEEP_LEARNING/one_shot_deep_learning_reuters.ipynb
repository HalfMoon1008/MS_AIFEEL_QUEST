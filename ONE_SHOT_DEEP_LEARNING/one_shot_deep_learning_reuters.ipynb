{
 "cells": [
  {
   "cell_type": "markdown",
   "id": "70aba305",
   "metadata": {},
   "source": [
    "### 데이터 로드 및 전처리\n",
    "- reuters 데이터셋을 로드하고, 훈련 데이터셋에서 25%를 검증 데이터셋으로 분리합니다. 데이터셋은 `keras.datasets`에서 불러올 수 있는 reuters 데이터 셋을 활용하고, 이때 파라메터 조정을 통해 단어의 개수는 10000개로 제한합니다(num_words=10000).\n",
    "- 데이터셋 분리 작업에서는 sklearn 라이브러리의 `train_test_split` 함수를 활용합니다.\n",
    "- 훈련, 검증, 테스트 데이터와 레이블 종류가 몇개인지 출력합니다."
   ]
  },
  {
   "cell_type": "code",
   "execution_count": null,
   "id": "f95c108b",
   "metadata": {},
   "outputs": [],
   "source": [
    "import numpy as np\n",
    "import matplotlib.pyplot as plt\n",
    "from sklearn.model_selection import train_test_split\n",
    "\n",
    "from tensorflow.keras import models, layers\n",
    "from tensorflow.keras import callbacks\n",
    "from tensorflow.keras import utils\n",
    "from keras.datasets import reuters"
   ]
  },
  {
   "cell_type": "code",
   "execution_count": null,
   "id": "888198a5",
   "metadata": {},
   "outputs": [],
   "source": [
    "# 문제 2-1: reuters 데이터셋을 로드하고, 훈련 데이터셋에서 25%를 검증 데이터셋으로 분리합니다.\n",
    "(train_data, val_data), (test_data, train_labels) = reuters.load_data(num_words=10000, test_split=0.25)\n",
    "\n",
    "\n",
    "# 훈련, 검증, 테스트 데이터와 레이블 종류가 몇 개인지 출력합니다.\n",
    "print(len(train_data))\n",
    "print(len(val_data))\n",
    "print(len(test_data))\n",
    "print(len(set(train_labels)))"
   ]
  },
  {
   "cell_type": "markdown",
   "id": "d55c14d6",
   "metadata": {},
   "source": [
    "- 텍스트 데이터의 전처리를 위해서 각 데이터셋마다 원-핫 인코딩을 수행합니다. 원-핫 인코딩 함수를 직접 만들어보세요.\n",
    "- 레이블 데이터들은 범주형 형태로 to_categorical() 함수를 사용해 변환합니다."
   ]
  },
  {
   "cell_type": "code",
   "execution_count": null,
   "id": "7b0f526b",
   "metadata": {},
   "outputs": [],
   "source": [
    "# 문제 2-2: 텍스트 데이터의 전처리를 위해서 각 데이터셋마다 원-핫 인코딩을 수행합니다.\n",
    "def one_hot_encoding(data, dim=10000):\n",
    "  from tensorflow.keras.preprocessing.sequence import pad_sequences\n",
    "  # sentence slicing within max_len\n",
    "  max_len = 100\n",
    "\n",
    "  if type(data[0]) == list:\n",
    "    data = pad_sequences(data, maxlen=max_len)\n",
    "  else:\n",
    "    data = utils.to_categorical(data)\n",
    "  \n",
    "  # print(data[0])\n",
    "  # print(type(data[0]))\n",
    "  return data\n",
    "\n",
    "x_train = one_hot_encoding(train_data)\n",
    "x_val = one_hot_encoding(val_data)\n",
    "x_test = one_hot_encoding(test_data)\n",
    "\n",
    "# 레이블 데이터들은 범주형 형태로 to_categorical() 함수를 사용해 변환합니다.\n",
    "y_test = one_hot_encoding(train_labels)"
   ]
  },
  {
   "cell_type": "markdown",
   "id": "afc1051f",
   "metadata": {},
   "source": [
    "### 모델 구성 및 컴파일\n",
    "- BatchNormalization과 Dropout을 적용하여 빠르게 학습하면서 과대적합을 방지하고, 46개의 뉴스 주제를 분류하는 딥러닝 모델을 구성합니다."
   ]
  },
  {
   "cell_type": "code",
   "execution_count": null,
   "id": "0e82bcfb",
   "metadata": {},
   "outputs": [],
   "source": [
    "# 문제 2-3: 빠른 학습과 과대적합을 방지하기 위해 BatchNormalization과 Dropout을 적용한 딥러닝 모델을 구성합니다.\n",
    "model = models.Sequential()\n",
    "model.add(layers.Dense(64, activation='relu', input_shape=(10000,)))\n",
    "# Batch Normalization 추가\n",
    "model.add(layers.BatchNormalization())\n",
    "# Dropout 추가\n",
    "model.add(layers.Dropout(0.7))\n",
    "model.add(layers.Dense(64, activation='relu'))\n",
    "# Batch Normalization 추가\n",
    "model.add(layers.BatchNormalization())  # Batch Normalization 추가\n",
    "# Dropout 추가\n",
    "model.add(layers.Dropout(0.7))\n",
    "model.add(layers.Dense(46, activation='softmax'))"
   ]
  },
  {
   "cell_type": "code",
   "execution_count": null,
   "id": "4dd60543",
   "metadata": {},
   "outputs": [],
   "source": [
    "# 모델 요약\n",
    "model.summary()\n",
    "# 모델 과정 그림으로 표현하기\n",
    "utils.plot_model(model, show_shapes=True)"
   ]
  },
  {
   "cell_type": "markdown",
   "id": "a7217268",
   "metadata": {},
   "source": [
    "### 모델 학습\n",
    "- ModelCheckpoint와 EarlyStopping 콜백 함수를 적용하여 모델 학습을 진행합니다."
   ]
  },
  {
   "cell_type": "code",
   "execution_count": null,
   "id": "26a9a328",
   "metadata": {},
   "outputs": [],
   "source": [
    "# 문제 2-4: ModelCheckpoint와 EarlyStopping 콜백 함수를 적용하여 모델 학습을 진행합니다.\n",
    "# model compile\n",
    "model.compile(loss='categorical_crossentropy', optimizer='adam', metrics=['accuracy'])\n",
    "\n",
    "# EarlyStopping\n",
    "early_stopping = callbacks.EarlyStopping(monitor='val_loss', patience=3)\n",
    "# Modelcheckpoint\n",
    "model_checkpoint = callbacks.ModelCheckpoint(filepath='mskim_test.h5', monitor='val_loss', save_best_only=True, verbose=1)\n",
    "\n",
    "\n",
    "# 모델 학습\n",
    "history = model.fit(x_train, y_train, batch_size=512, epochs=10, validation_data = (x_val, y_val), callbacks=[early_stopping, model_checkpoint])"
   ]
  },
  {
   "cell_type": "code",
   "execution_count": null,
   "id": "106df1a1",
   "metadata": {},
   "outputs": [],
   "source": [
    "## 위 코드에서 다음 에러 발생 중\n",
    "\"\"\"\n",
    "ValueError: Data cardinality is ambiguous:\n",
    "  x sizes: 8421\n",
    "  y sizes: 6736\n",
    "Make sure all arrays contain the same number of samples.\n",
    "\"\"\"\n",
    "\n",
    "# 추후 수정 필요\n",
    "## 데이터 전처리에서 테스트하다가 꼬임"
   ]
  },
  {
   "cell_type": "markdown",
   "id": "77136a0d",
   "metadata": {},
   "source": [
    "- 학습 히스토리의 `loss`, `val_loss`, `accuracy`, `val_accuracy`를 차트로 시각화합니다."
   ]
  },
  {
   "cell_type": "code",
   "execution_count": null,
   "id": "b1b1b67b",
   "metadata": {},
   "outputs": [],
   "source": [
    "# 학습 히스토리의 `loss`, `val_loss`, `accuracy`, `val_accuracy`를 차트로 시각화합니다.\n",
    "plt.style.use('seaborn-white')\n",
    "\n",
    "history_dict = history.history\n",
    "\n",
    "# for key in history_dict:\n",
    "#     print(key)\n",
    "\n",
    "loss = history_dict['loss']\n",
    "val_loss = history_dict['val_loss']\n",
    "\n",
    "epochs = range(1, len(loss) + 1)\n",
    "fig = plt.figure(figsize=(12, 5))\n",
    "\n",
    "ax1 = fig.add_subplot(1, 2, 1)\n",
    "ax1.plot(epochs, loss, 'b-', label='train_loss')\n",
    "ax1.plot(epochs, val_loss, 'r-', label='val_loss')\n",
    "ax1.set_title('Train and Validation Loss')\n",
    "ax1.set_xlabel('Epochs')\n",
    "ax1.set_ylabel('Loss')\n",
    "ax1.grid()\n",
    "ax1.legend()\n",
    "\n",
    "accuracy = history_dict['accuracy']\n",
    "val_accuracy = history_dict['val_accuracy']\n",
    "\n",
    "ax2 = fig.add_subplot(1, 2, 2)\n",
    "ax2.plot(epochs, accuracy, 'b-', label='train_accuracy')\n",
    "ax2.plot(epochs, val_accuracy, 'r-', label='val_accuracy')\n",
    "ax2.set_title('Train and Validation Accuracy')\n",
    "ax2.set_xlabel('Epochs')\n",
    "ax2.set_ylabel('Accuracy')\n",
    "ax2.grid()\n",
    "ax2.legend()\n",
    "\n",
    "plt.show()"
   ]
  },
  {
   "cell_type": "markdown",
   "id": "07085ab1",
   "metadata": {},
   "source": [
    "### 모델 평가 및 예측\n",
    "- 테스트 데이터셋을 이용해 모델을 평가합니다."
   ]
  },
  {
   "cell_type": "code",
   "execution_count": null,
   "id": "5074fac4",
   "metadata": {},
   "outputs": [],
   "source": [
    "# 문제 2-5: 테스트 데이터셋을 이용해 모델을 평가합니다.\n",
    "results = model.evaluate(x_test, y_test, batch_size=128)"
   ]
  }
 ],
 "metadata": {
  "kernelspec": {
   "display_name": "Python 3 (ipykernel)",
   "language": "python",
   "name": "python3"
  },
  "language_info": {
   "codemirror_mode": {
    "name": "ipython",
    "version": 3
   },
   "file_extension": ".py",
   "mimetype": "text/x-python",
   "name": "python",
   "nbconvert_exporter": "python",
   "pygments_lexer": "ipython3",
   "version": "3.9.7"
  }
 },
 "nbformat": 4,
 "nbformat_minor": 5
}
