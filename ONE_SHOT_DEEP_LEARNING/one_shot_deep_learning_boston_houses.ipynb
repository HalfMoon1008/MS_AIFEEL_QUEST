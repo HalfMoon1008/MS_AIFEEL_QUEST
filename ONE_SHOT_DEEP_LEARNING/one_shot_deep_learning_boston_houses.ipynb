{
 "cells": [
  {
   "cell_type": "markdown",
   "id": "ac7df904",
   "metadata": {},
   "source": [
    "### 데이터 로드 및 전처리\n",
    "- 먼저 데이터를 불러와 확인해 보고 전처리를 해 봅시다.\n",
    "- 데이터셋은 `keras.datasets`에서 불러올 수 있는 boston_housing 데이터셋을 활용합니다."
   ]
  },
  {
   "cell_type": "code",
   "execution_count": 1,
   "id": "bcee1025",
   "metadata": {},
   "outputs": [],
   "source": [
    "from tensorflow.keras import models, layers\n",
    "import matplotlib.pyplot as plt"
   ]
  },
  {
   "cell_type": "code",
   "execution_count": 2,
   "id": "70af0054",
   "metadata": {},
   "outputs": [
    {
     "name": "stdout",
     "output_type": "stream",
     "text": [
      "404\n",
      "102\n"
     ]
    }
   ],
   "source": [
    "# keras.datasets 안에 boston_housing 데이터셋을 로드합니다.\n",
    "from keras.datasets import boston_housing\n",
    "\n",
    "(train_data, train_labels), (test_data, test_labels) = boston_housing.load_data()\n",
    "\n",
    "# 데이터셋의 크기를 확인합니다.\n",
    "print(len(train_data))\n",
    "print(len(test_data))"
   ]
  },
  {
   "cell_type": "markdown",
   "id": "276389f0",
   "metadata": {},
   "source": [
    "- 데이터셋의 전처리를 위해 표준화 작업을 수행해야 합니다. 아래의 주석을 보고 코드를 작성해 보세요."
   ]
  },
  {
   "cell_type": "code",
   "execution_count": 3,
   "id": "bc7f0376",
   "metadata": {},
   "outputs": [],
   "source": [
    "# 문제 1-1: 데이터셋의 전처리를 위해 표준화 작업을 수행합니다.\n",
    "# 먼저 입력 데이터의 각 특성의 평균을 뺍니다.\n",
    "mean = train_data.mean(axis=0)\n",
    "train_data = train_data - mean\n",
    "\n",
    "# 평균을 뺀 입력 데이터에서 표준편차를 나눕니다.\n",
    "# 데이터 특성의 중앙이 0에 가깝게 만들고, 표준편차가 1이 되게 만듭니다.\n",
    "std = train_data.std(axis=0)\n",
    "train_data = train_data / std\n",
    "\n",
    "# 테스트 데이터셋도 마찬가지로 평균을 빼고, 표준편차로 나눕니다.\n",
    "test_data = test_data - mean\n",
    "test_data = test_data / std"
   ]
  },
  {
   "cell_type": "markdown",
   "id": "cd33fe99",
   "metadata": {},
   "source": [
    "### 모델 구성 및 컴파일\n",
    "- 주택 가격 예측을 위한 딥러닝 모델을 구성하고 컴파일합니다. Sequential() 함수를 이용한 Sequential API 방법으로 딥러닝 모델을 구성해 보세요."
   ]
  },
  {
   "cell_type": "code",
   "execution_count": 4,
   "id": "998bd539",
   "metadata": {},
   "outputs": [
    {
     "name": "stdout",
     "output_type": "stream",
     "text": [
      "Model: \"sequential\"\n",
      "_________________________________________________________________\n",
      "Layer (type)                 Output Shape              Param #   \n",
      "=================================================================\n",
      "dense (Dense)                (None, 52)                728       \n",
      "_________________________________________________________________\n",
      "dense_1 (Dense)              (None, 39)                2067      \n",
      "_________________________________________________________________\n",
      "dense_2 (Dense)              (None, 26)                1040      \n",
      "_________________________________________________________________\n",
      "dense_3 (Dense)              (None, 1)                 27        \n",
      "=================================================================\n",
      "Total params: 3,862\n",
      "Trainable params: 3,862\n",
      "Non-trainable params: 0\n",
      "_________________________________________________________________\n"
     ]
    }
   ],
   "source": [
    "# 문제 1-2: 주택 가격 예측을 위한 딥러닝 모델 구성 및 컴파일합니다.\n",
    "# input_shape은 (train_data.shape[1], )으로 구성합니다.\n",
    "# 회귀(예측)을 위한 모델이므로 loss를 mse, metrics를 mae로 사용합니다.\n",
    "model = models.Sequential([\n",
    "    layers.Dense(52, activation='relu', input_shape=(train_data.shape[1], )),\n",
    "    layers.Dense(39, activation='relu'),\n",
    "    layers.Dense(26, activation='relu'),\n",
    "    layers.Dense(1)\n",
    "])\n",
    "\n",
    "model.compile(loss='mse', metrics='mae')\n",
    "model.summary()"
   ]
  },
  {
   "cell_type": "markdown",
   "id": "6e107efc",
   "metadata": {},
   "source": [
    "### 모델 학습\n",
    "- epochs와 batch size는 자유롭게 설정해 보세요. 모델 학습 후에는 모델 학습 결과를 시각화해 보세요."
   ]
  },
  {
   "cell_type": "code",
   "execution_count": 5,
   "id": "3e8de209",
   "metadata": {},
   "outputs": [
    {
     "name": "stdout",
     "output_type": "stream",
     "text": [
      "Epoch 1/25\n",
      "11/11 - 1s - loss: 529.2485 - mae: 21.1726 - val_loss: 562.3733 - val_mae: 21.9430\n",
      "Epoch 2/25\n",
      "11/11 - 0s - loss: 456.9630 - mae: 19.4798 - val_loss: 481.3259 - val_mae: 20.0916\n",
      "Epoch 3/25\n",
      "11/11 - 0s - loss: 366.9939 - mae: 17.2016 - val_loss: 369.2657 - val_mae: 17.2649\n",
      "Epoch 4/25\n",
      "11/11 - 0s - loss: 259.7253 - mae: 14.0361 - val_loss: 255.9207 - val_mae: 13.7360\n",
      "Epoch 5/25\n",
      "11/11 - 0s - loss: 161.5099 - mae: 10.6069 - val_loss: 164.1079 - val_mae: 10.3241\n",
      "Epoch 6/25\n",
      "11/11 - 0s - loss: 103.1314 - mae: 8.2096 - val_loss: 104.3003 - val_mae: 8.1033\n",
      "Epoch 7/25\n",
      "11/11 - 0s - loss: 73.1701 - mae: 6.6990 - val_loss: 74.8800 - val_mae: 6.8314\n",
      "Epoch 8/25\n",
      "11/11 - 0s - loss: 56.0963 - mae: 5.7031 - val_loss: 54.8906 - val_mae: 5.7246\n",
      "Epoch 9/25\n",
      "11/11 - 0s - loss: 44.1676 - mae: 4.8482 - val_loss: 50.1098 - val_mae: 5.4137\n",
      "Epoch 10/25\n",
      "11/11 - 0s - loss: 36.4048 - mae: 4.3919 - val_loss: 35.6106 - val_mae: 4.4265\n",
      "Epoch 11/25\n",
      "11/11 - 0s - loss: 30.9624 - mae: 3.8551 - val_loss: 34.0689 - val_mae: 4.2793\n",
      "Epoch 12/25\n",
      "11/11 - 0s - loss: 27.2127 - mae: 3.6545 - val_loss: 29.9526 - val_mae: 3.9582\n",
      "Epoch 13/25\n",
      "11/11 - 0s - loss: 24.9638 - mae: 3.4379 - val_loss: 25.2257 - val_mae: 3.7079\n",
      "Epoch 14/25\n",
      "11/11 - 0s - loss: 22.9993 - mae: 3.2599 - val_loss: 22.2524 - val_mae: 3.5312\n",
      "Epoch 15/25\n",
      "11/11 - 0s - loss: 21.0864 - mae: 3.1070 - val_loss: 20.2413 - val_mae: 3.3610\n",
      "Epoch 16/25\n",
      "11/11 - 0s - loss: 19.5182 - mae: 3.0367 - val_loss: 19.0141 - val_mae: 3.2711\n",
      "Epoch 17/25\n",
      "11/11 - 0s - loss: 18.3014 - mae: 2.9249 - val_loss: 17.9679 - val_mae: 3.2308\n",
      "Epoch 18/25\n",
      "11/11 - 0s - loss: 17.3280 - mae: 2.9488 - val_loss: 18.8609 - val_mae: 3.1847\n",
      "Epoch 19/25\n",
      "11/11 - 0s - loss: 16.4316 - mae: 2.7327 - val_loss: 16.6936 - val_mae: 3.1420\n",
      "Epoch 20/25\n",
      "11/11 - 0s - loss: 16.1448 - mae: 2.7272 - val_loss: 15.8483 - val_mae: 3.0617\n",
      "Epoch 21/25\n",
      "11/11 - 0s - loss: 14.8930 - mae: 2.6442 - val_loss: 15.6204 - val_mae: 2.9770\n",
      "Epoch 22/25\n",
      "11/11 - 0s - loss: 14.6831 - mae: 2.6174 - val_loss: 15.2380 - val_mae: 2.9823\n",
      "Epoch 23/25\n",
      "11/11 - 0s - loss: 13.9051 - mae: 2.5472 - val_loss: 14.9481 - val_mae: 2.9255\n",
      "Epoch 24/25\n",
      "11/11 - 0s - loss: 13.7620 - mae: 2.5513 - val_loss: 14.2907 - val_mae: 2.7826\n",
      "Epoch 25/25\n",
      "11/11 - 0s - loss: 13.0485 - mae: 2.5819 - val_loss: 14.5924 - val_mae: 2.9892\n"
     ]
    }
   ],
   "source": [
    "# 문제 1-3: 예측을 위한 딥러닝 모델을 학습합니다.\n",
    "history  = model.fit(train_data, train_labels, epochs=25, batch_size=32, validation_split=0.2, verbose=2)"
   ]
  },
  {
   "cell_type": "code",
   "execution_count": 6,
   "id": "335c0ab8",
   "metadata": {},
   "outputs": [
    {
     "data": {
      "image/png": "[encoded data removed]",
      "text/plain": [
       "<Figure size 864x360 with 2 Axes>"
      ]
     },
     "metadata": {},
     "output_type": "display_data"
    }
   ],
   "source": [
    "# 모델 학습 히스토리에서 loss, val_loss, mae, val_mae를 차트로 보여줍니다.\n",
    "plt.style.use('seaborn-white')\n",
    "\n",
    "history_dict = history.history\n",
    "\n",
    "loss = history_dict['loss']\n",
    "val_loss = history_dict['val_loss']\n",
    "\n",
    "epochs = range(1, len(loss) + 1)\n",
    "fig = plt.figure(figsize=(12, 5))\n",
    "\n",
    "ax1 = fig.add_subplot(1, 2, 1)\n",
    "ax1.plot(epochs, loss, 'b-', label='train_loss')\n",
    "ax1.plot(epochs, val_loss, 'r-', label='val_loss')\n",
    "ax1.set_title('Train and Validation Loss')\n",
    "ax1.set_xlabel('Epochs')\n",
    "ax1.set_ylabel('Loss')\n",
    "ax1.grid()\n",
    "ax1.legend()\n",
    "\n",
    "mae = history_dict['mae']\n",
    "val_mae = history_dict['val_mae']\n",
    "\n",
    "ax2 = fig.add_subplot(1, 2, 2)\n",
    "ax2.plot(epochs, mae, 'b-', label='train_mae')\n",
    "ax2.plot(epochs, val_mae, 'r-', label='val_mae')\n",
    "ax2.set_title('Train and Validation MAE')\n",
    "ax2.set_xlabel('Epochs')\n",
    "ax2.set_ylabel('Accuracy')\n",
    "ax2.grid()\n",
    "ax2.legend()\n",
    "\n",
    "plt.show()"
   ]
  },
  {
   "cell_type": "markdown",
   "id": "707ee5cd",
   "metadata": {},
   "source": [
    "### 모델 평가 및 예측\n",
    "- 테스트 데이터를 가져와 모델 성능을 평가해 보겠습니다."
   ]
  },
  {
   "cell_type": "code",
   "execution_count": 7,
   "id": "02987567",
   "metadata": {},
   "outputs": [
    {
     "name": "stdout",
     "output_type": "stream",
     "text": [
      "4/4 [==============================] - 0s 2ms/step - loss: 20.4412 - mae: 3.3682\n",
      "test loss, test acc: [20.441150665283203, 3.36824107170105]\n"
     ]
    }
   ],
   "source": [
    "# 문제 1-4: 테스트 데이터셋을 이용해 모델을 평가합니다.\n",
    "results = model.evaluate(test_data, test_labels)\n",
    "print(\"test loss, test acc:\", results)"
   ]
  }
 ],
 "metadata": {
  "kernelspec": {
   "display_name": "Python 3 (ipykernel)",
   "language": "python",
   "name": "python3"
  },
  "language_info": {
   "codemirror_mode": {
    "name": "ipython",
    "version": 3
   },
   "file_extension": ".py",
   "mimetype": "text/x-python",
   "name": "python",
   "nbconvert_exporter": "python",
   "pygments_lexer": "ipython3",
   "version": "3.9.7"
  }
 },
 "nbformat": 4,
 "nbformat_minor": 5
}
